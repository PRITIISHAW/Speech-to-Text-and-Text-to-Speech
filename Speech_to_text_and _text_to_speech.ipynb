{
 "cells": [
  {
   "cell_type": "code",
   "execution_count": null,
   "metadata": {},
   "outputs": [],
   "source": [
    "from gtts import gTTS\n",
    "import os\n",
    "import pyaudio\n",
    "import speech_recognition as sr\n",
    "from pygame import mixer  # Load the popular external library\n",
    "r=sr.Recognizer()\n",
    "with sr.Microphone() as source:\n",
    "    print(\"Speak Anything:\")\n",
    "    audio=r.listen(source)\n",
    "    print(\"Done!\")\n",
    "    try:\n",
    "        mytext=r.recognize_google(audio)\n",
    "        print(\"You said: {}\".format(mytext))\n",
    "        language='en'\n",
    "        myobj=gTTS(text=mytext, lang=language, slow=False)\n",
    "        myobj.save(\"Welcomeii.mp3\")\n",
    "        os.system(\"mpg321 Welcomeii.mp3\")\n",
    "    except:\n",
    "        print(\"Sorry could not recognize your voice\")\n",
    "mixer.init()\n",
    "mixer.music.load(r'C:\\Users\\Priti\\Welcomeii.mp3')\n",
    "mixer.music.play()"
   ]
  },
  {
   "cell_type": "code",
   "execution_count": null,
   "metadata": {},
   "outputs": [],
   "source": []
  }
 ],
 "metadata": {
  "kernelspec": {
   "display_name": "Python 3",
   "language": "python",
   "name": "python3"
  },
  "language_info": {
   "codemirror_mode": {
    "name": "ipython",
    "version": 3
   },
   "file_extension": ".py",
   "mimetype": "text/x-python",
   "name": "python",
   "nbconvert_exporter": "python",
   "pygments_lexer": "ipython3",
   "version": "3.6.8"
  }
 },
 "nbformat": 4,
 "nbformat_minor": 2
}
